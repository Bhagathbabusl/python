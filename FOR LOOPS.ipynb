{
 "cells": [
  {
   "cell_type": "code",
   "execution_count": 11,
   "id": "00fa9959",
   "metadata": {},
   "outputs": [
    {
     "name": "stdout",
     "output_type": "stream",
     "text": [
      "*****\n",
      "****\n",
      "***\n",
      "**\n",
      "*\n"
     ]
    }
   ],
   "source": [
    "for i in range(5,0,-1):\n",
    "    print(\"*\"*i)"
   ]
  },
  {
   "cell_type": "code",
   "execution_count": 16,
   "id": "7562cd18",
   "metadata": {},
   "outputs": [
    {
     "name": "stdout",
     "output_type": "stream",
     "text": [
      "      *\n",
      "     **\n",
      "    ***\n",
      "   ****\n",
      "  *****\n"
     ]
    }
   ],
   "source": [
    "x=5\n",
    "for i in range (1,6):\n",
    "    print(\" \"*x, \"*\"*i)\n",
    "    x=x-1"
   ]
  },
  {
   "cell_type": "code",
   "execution_count": 18,
   "id": "74810061",
   "metadata": {},
   "outputs": [
    {
     "name": "stdout",
     "output_type": "stream",
     "text": [
      "      *****\n",
      "       ****\n",
      "        ***\n",
      "         **\n",
      "          *\n"
     ]
    }
   ],
   "source": [
    "x=5\n",
    "for i in range (5,0,-1):\n",
    "    print(\" \"*x, \"*\"*i)\n",
    "    x=x+1"
   ]
  },
  {
   "cell_type": "code",
   "execution_count": 21,
   "id": "79720fc0",
   "metadata": {},
   "outputs": [
    {
     "name": "stdout",
     "output_type": "stream",
     "text": [
      "*\n",
      "**\n",
      "***\n",
      "****\n",
      "*****\n",
      "****\n",
      "***\n",
      "**\n",
      "*\n"
     ]
    }
   ],
   "source": [
    "for i in range (1,6):\n",
    "    print(\"*\"*i)\n",
    "for i in range (4,0,-1):\n",
    "    print(\"*\"*i)"
   ]
  },
  {
   "cell_type": "code",
   "execution_count": 28,
   "id": "e9675746",
   "metadata": {},
   "outputs": [
    {
     "name": "stdout",
     "output_type": "stream",
     "text": [
      "*****\n",
      "****\n",
      "***\n",
      "**\n",
      "*\n",
      "**\n",
      "***\n",
      "****\n",
      "*****\n"
     ]
    }
   ],
   "source": [
    "for i in range(5,0,-1):\n",
    "    print(\"*\"*i)\n",
    "for i in range(2,6):\n",
    "    print(\"*\"*i)    "
   ]
  },
  {
   "cell_type": "code",
   "execution_count": 31,
   "id": "9d3fd6be",
   "metadata": {},
   "outputs": [
    {
     "name": "stdout",
     "output_type": "stream",
     "text": [
      "      *\n",
      "     **\n",
      "    ***\n",
      "   ****\n",
      "  *****\n",
      "   ****\n",
      "    ***\n",
      "     **\n",
      "      *\n"
     ]
    }
   ],
   "source": [
    "x=5\n",
    "for i in range(1,5):\n",
    "    print(\" \"*x, \"*\"*i)\n",
    "    x=x-1\n",
    "y=1\n",
    "for j in range(5,0,-1):\n",
    "    print(\" \"*y, \"*\"*j)\n",
    "    y=y+1"
   ]
  },
  {
   "cell_type": "code",
   "execution_count": 34,
   "id": "8baa1e2f",
   "metadata": {},
   "outputs": [
    {
     "name": "stdout",
     "output_type": "stream",
     "text": [
      "  *****\n",
      "   ****\n",
      "    ***\n",
      "     **\n",
      "      *\n",
      "     **\n",
      "    ***\n",
      "   ****\n",
      "  *****\n"
     ]
    }
   ],
   "source": [
    "y=1\n",
    "for j in range(5,1,-1):\n",
    "    print(\" \"*y, \"*\"*j)\n",
    "    y=y+1\n",
    "    \n",
    "x=5\n",
    "for i in range(1,6):\n",
    "    print(\" \"*x, \"*\"*i)\n",
    "    x=x-1"
   ]
  },
  {
   "cell_type": "code",
   "execution_count": 36,
   "id": "7b6ae911",
   "metadata": {},
   "outputs": [
    {
     "name": "stdout",
     "output_type": "stream",
     "text": [
      "     *      \n",
      "    ***     \n",
      "   *****    \n",
      "  *******   \n",
      " *********  \n"
     ]
    }
   ],
   "source": [
    "x=\"\"\n",
    "for i in range(1,10,2):\n",
    "    x= i*\"*\"\n",
    "    print(x.center(12, \" \"))"
   ]
  },
  {
   "cell_type": "code",
   "execution_count": 37,
   "id": "64f33408",
   "metadata": {},
   "outputs": [
    {
     "name": "stdout",
     "output_type": "stream",
     "text": [
      "  ***********  \n",
      "   *********   \n",
      "    *******    \n",
      "     *****     \n",
      "      ***      \n",
      "       *       \n",
      "      ***      \n",
      "     *****     \n",
      "    *******    \n",
      "   *********   \n",
      "  ***********  \n"
     ]
    }
   ],
   "source": [
    "x=\"\"\n",
    "for i in range(11,1,-2):\n",
    "    x= i*\"*\"\n",
    "    print(x.center(15, \" \"))\n",
    "    \n",
    "x=\"\"\n",
    "for i in range(1,13,2):\n",
    "    x= i*\"*\"\n",
    "    print(x.center(15, \" \"))"
   ]
  },
  {
   "cell_type": "code",
   "execution_count": 38,
   "id": "3857964d",
   "metadata": {},
   "outputs": [
    {
     "name": "stdout",
     "output_type": "stream",
     "text": [
      "*        *\n",
      "**      **\n",
      "***    ***\n",
      "****  ****\n",
      "**********\n"
     ]
    }
   ],
   "source": [
    "x=8\n",
    "for i in range(1,6,1):\n",
    "    print(i*\"*\"+\" \"*x+i*\"*\")\n",
    "    x=x-2\n"
   ]
  },
  {
   "cell_type": "code",
   "execution_count": 39,
   "id": "2d7a12b3",
   "metadata": {},
   "outputs": [
    {
     "name": "stdout",
     "output_type": "stream",
     "text": [
      "**********\n",
      "****  ****\n",
      "***    ***\n",
      "**      **\n",
      "*        *\n"
     ]
    }
   ],
   "source": [
    "x=0\n",
    "for i in range(5,0,-1):\n",
    "    print(i*\"*\"+\" \"*x+i*\"*\")\n",
    "    x=x+2"
   ]
  },
  {
   "cell_type": "code",
   "execution_count": 40,
   "id": "3b8296cc",
   "metadata": {},
   "outputs": [
    {
     "name": "stdout",
     "output_type": "stream",
     "text": [
      "*        *\n",
      "**      **\n",
      "***    ***\n",
      "****  ****\n",
      "**********\n",
      "**********\n",
      "****  ****\n",
      "***    ***\n",
      "**      **\n",
      "*        *\n"
     ]
    }
   ],
   "source": [
    "x=8\n",
    "y=0\n",
    "for i in range(1,6,1):\n",
    "    print(i*\"*\"+\" \"*x+i*\"*\")\n",
    "    x=x-2\n",
    "for i in range(5,0,-1):\n",
    "    print(i*\"*\"+\" \"*y+i*\"*\")\n",
    "    y=y+2"
   ]
  },
  {
   "cell_type": "code",
   "execution_count": 41,
   "id": "c76ce23e",
   "metadata": {},
   "outputs": [
    {
     "name": "stdout",
     "output_type": "stream",
     "text": [
      "**********\n",
      "****  ****\n",
      "***    ***\n",
      "**      **\n",
      "*        *\n",
      "*        *\n",
      "**      **\n",
      "***    ***\n",
      "****  ****\n",
      "**********\n"
     ]
    }
   ],
   "source": [
    "x=8\n",
    "y=0\n",
    "for i in range(5,0,-1):\n",
    "    print(i*\"*\"+\" \"*y+i*\"*\")\n",
    "    y=y+2\n",
    "for i in range(1,6,1):\n",
    "    print(i*\"*\"+\" \"*x+i*\"*\")\n",
    "    x=x-2\n"
   ]
  },
  {
   "cell_type": "code",
   "execution_count": 42,
   "id": "5ea5e53c",
   "metadata": {},
   "outputs": [
    {
     "name": "stdout",
     "output_type": "stream",
     "text": [
      "*\n",
      "**\n",
      "* *\n",
      "*  *\n",
      "*****\n"
     ]
    }
   ],
   "source": [
    "for i in range(1,6):\n",
    "    if i<=2:\n",
    "        print(i*\"*\")\n",
    "    elif i>2 and i<5:\n",
    "        print(\"*\"+\" \"*(i-2)+\"*\")\n",
    "    else:\n",
    "        print(i*\"*\")"
   ]
  },
  {
   "cell_type": "code",
   "execution_count": null,
   "id": "76b43afd",
   "metadata": {},
   "outputs": [],
   "source": []
  }
 ],
 "metadata": {
  "kernelspec": {
   "display_name": "Python 3 (ipykernel)",
   "language": "python",
   "name": "python3"
  },
  "language_info": {
   "codemirror_mode": {
    "name": "ipython",
    "version": 3
   },
   "file_extension": ".py",
   "mimetype": "text/x-python",
   "name": "python",
   "nbconvert_exporter": "python",
   "pygments_lexer": "ipython3",
   "version": "3.9.13"
  }
 },
 "nbformat": 4,
 "nbformat_minor": 5
}
