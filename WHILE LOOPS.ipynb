{
 "cells": [
  {
   "cell_type": "code",
   "execution_count": 1,
   "id": "b4cd0334",
   "metadata": {},
   "outputs": [],
   "source": [
    "###loops\n",
    "##  WHILE\n",
    "##  CONTINUE\n",
    "##  BREAK"
   ]
  },
  {
   "cell_type": "code",
   "execution_count": 3,
   "id": "d0bb22f0",
   "metadata": {},
   "outputs": [
    {
     "name": "stdout",
     "output_type": "stream",
     "text": [
      "0\n",
      "1\n",
      "2\n",
      "3\n",
      "4\n",
      "5\n",
      "6\n",
      "7\n",
      "8\n",
      "9\n"
     ]
    }
   ],
   "source": [
    "#while loop\n",
    "\n",
    "for i in range(0,10):\n",
    "    print(i)\n",
    "\n",
    "##in for loops we have an min and maximum value (we have a range values that loop needs to run)"
   ]
  },
  {
   "cell_type": "code",
   "execution_count": 4,
   "id": "b4713ee5",
   "metadata": {},
   "outputs": [
    {
     "name": "stdout",
     "output_type": "stream",
     "text": [
      "EDUKRON\n",
      "9\n",
      "EDUKRON\n",
      "8\n",
      "EDUKRON\n",
      "7\n",
      "EDUKRON\n",
      "6\n",
      "EDUKRON\n",
      "5\n"
     ]
    }
   ],
   "source": [
    "x=10\n",
    "while x>5:\n",
    "    print(\"EDUKRON\")\n",
    "    x-=1\n",
    "    print(x)"
   ]
  },
  {
   "cell_type": "code",
   "execution_count": 6,
   "id": "70f8bcc8",
   "metadata": {},
   "outputs": [
    {
     "name": "stdout",
     "output_type": "stream",
     "text": [
      "*\n",
      "**\n",
      "***\n",
      "****\n",
      "*****\n"
     ]
    }
   ],
   "source": [
    "x=1\n",
    "while x<6:\n",
    "    print(\"*\"*x)\n",
    "    x+=1"
   ]
  },
  {
   "cell_type": "code",
   "execution_count": 7,
   "id": "dee010d5",
   "metadata": {},
   "outputs": [],
   "source": [
    "#### break and continue"
   ]
  },
  {
   "cell_type": "code",
   "execution_count": 8,
   "id": "bf14d954",
   "metadata": {},
   "outputs": [
    {
     "name": "stdout",
     "output_type": "stream",
     "text": [
      "1\n",
      "2\n",
      "3\n",
      "4\n"
     ]
    }
   ],
   "source": [
    "for i in range (1,10):\n",
    "    if i==5:\n",
    "        break\n",
    "    print(i)"
   ]
  },
  {
   "cell_type": "code",
   "execution_count": 9,
   "id": "404db2f5",
   "metadata": {},
   "outputs": [
    {
     "name": "stdout",
     "output_type": "stream",
     "text": [
      "Current value of i is 1\n",
      "Current value of i is 2\n",
      "Current value of i is 4\n",
      "Current value of i is 5\n"
     ]
    }
   ],
   "source": [
    "for i in range(1,6):\n",
    "    if i ==3:\n",
    "        continue\n",
    "    print(f\"Current value of i is {i}\")"
   ]
  },
  {
   "cell_type": "code",
   "execution_count": 11,
   "id": "0d52601e",
   "metadata": {},
   "outputs": [
    {
     "name": "stdout",
     "output_type": "stream",
     "text": [
      "0 0\n",
      "0 3\n",
      "0 6\n",
      "3 0\n",
      "3 3\n",
      "3 6\n",
      "6 0\n",
      "6 3\n",
      "6 6\n"
     ]
    }
   ],
   "source": [
    "for i in range(0,7,3):\n",
    "    for j in range(0,7,3):\n",
    "        print(i,j)"
   ]
  },
  {
   "cell_type": "code",
   "execution_count": 12,
   "id": "ab594f92",
   "metadata": {},
   "outputs": [
    {
     "name": "stdout",
     "output_type": "stream",
     "text": [
      "1 y\n",
      "1 e\n",
      "1 s\n",
      "2 y\n",
      "2 e\n",
      "2 s\n",
      "3 y\n",
      "3 e\n",
      "3 s\n",
      "4 y\n",
      "4 e\n",
      "4 s\n",
      "5 y\n",
      "5 e\n",
      "5 s\n",
      "8 y\n",
      "8 e\n",
      "8 s\n"
     ]
    }
   ],
   "source": [
    "for i in [1,2,3,4,5,8]:\n",
    "    for j in \"yes\":\n",
    "        print(i,j)"
   ]
  },
  {
   "cell_type": "code",
   "execution_count": 13,
   "id": "5483445a",
   "metadata": {},
   "outputs": [
    {
     "name": "stdout",
     "output_type": "stream",
     "text": [
      "1 9\n",
      "1 10\n",
      "1 11\n",
      "1 12\n",
      "2 9\n",
      "2 10\n",
      "2 11\n",
      "2 12\n",
      "3 9\n",
      "3 10\n",
      "3 11\n",
      "3 12\n",
      "4 9\n",
      "4 10\n",
      "4 11\n",
      "4 12\n",
      "5 9\n",
      "5 10\n",
      "5 11\n",
      "5 12\n",
      "8 9\n",
      "8 10\n",
      "8 11\n",
      "8 12\n"
     ]
    }
   ],
   "source": [
    "for i in [1,2,3,4,5,8]:\n",
    "    for j in [9,10,11,12]:\n",
    "        print(i,j)"
   ]
  },
  {
   "cell_type": "code",
   "execution_count": null,
   "id": "78adb52c",
   "metadata": {},
   "outputs": [],
   "source": []
  }
 ],
 "metadata": {
  "kernelspec": {
   "display_name": "Python 3 (ipykernel)",
   "language": "python",
   "name": "python3"
  },
  "language_info": {
   "codemirror_mode": {
    "name": "ipython",
    "version": 3
   },
   "file_extension": ".py",
   "mimetype": "text/x-python",
   "name": "python",
   "nbconvert_exporter": "python",
   "pygments_lexer": "ipython3",
   "version": "3.9.13"
  }
 },
 "nbformat": 4,
 "nbformat_minor": 5
}
